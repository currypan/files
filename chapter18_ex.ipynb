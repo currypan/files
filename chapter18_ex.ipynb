{
 "cells": [
  {
   "cell_type": "code",
   "execution_count": 11,
   "metadata": {
    "collapsed": true
   },
   "outputs": [],
   "source": [
    "import matplotlib.pyplot as plt\n",
    "import pandas as pd\n",
    "import numpy as np\n",
    "import scipy\n",
    "import seaborn as sns\n",
    "import random\n",
    "from IPython.display import display\n",
    "import pystan\n",
    "%matplotlib inline\n",
    "import warnings\n",
    "warnings.filterwarnings('ignore')\n",
    "import pickle"
   ]
  },
  {
   "cell_type": "markdown",
   "metadata": {},
   "source": [
    "### traceplot"
   ]
  },
  {
   "cell_type": "code",
   "execution_count": 53,
   "metadata": {
    "collapsed": true
   },
   "outputs": [],
   "source": [
    "def traceplot(fit, par, inc_warmup=False):\n",
    "    \"\"\"\n",
    "    Parameters\n",
    "    ==========\n",
    "    fit : pystan.StanFit4model\n",
    "    par : string\n",
    "    inc_warmup : bool\n",
    "    \"\"\"\n",
    "    #  import seaborn as sns\n",
    "    #  import matplotlib.pyplot as plt\n",
    "    alpha = 0.6\n",
    "    ms = fit.extract(permuted=False, inc_warmup=inc_warmup)\n",
    "    trace = ms[:, :, fit.sim['fnames_oi'].index(par)]\n",
    "\n",
    "    fig = plt.figure(figsize=(10,6))\n",
    "    ax1 = fig.add_axes((0, 0, 0.7, 1)) # 表示位置と比は(left, bottom, width, height)の順に指定    \n",
    "    ax2 = fig.add_axes((0.8, 0, 0.2, 1), sharey=ax1)\n",
    "    \n",
    "    ax1.set_title(par)\n",
    "    for i in range(trace.shape[1]):\n",
    "        ax1.plot(trace[:, i], alpha=alpha, label='chain%d' % (i + 1))\n",
    "    ax1.legend(loc='upper right')\n",
    "    ax1.set_xlabel('iteration')\n",
    "    ax1.set_ylabel('value')\n",
    "    \n",
    "    \n",
    "    for i in range(trace.shape[1]):\n",
    "        sns.kdeplot(trace[:, i], vertical=True, alpha=alpha,ax = ax2)"
   ]
  },
  {
   "cell_type": "markdown",
   "metadata": {},
   "source": [
    "### stanfit_to_dataframe"
   ]
  },
  {
   "cell_type": "code",
   "execution_count": 54,
   "metadata": {
    "collapsed": true
   },
   "outputs": [],
   "source": [
    "def stanfit_to_dataframe(fit, pars=None):\n",
    "    \"\"\"\n",
    "    Parameters\n",
    "    ==========\n",
    "    fit : pystan.StanFit4model\n",
    "    \"\"\"\n",
    "    import pandas\n",
    "    summary = fit.summary(pars=pars)\n",
    "    columns = summary['summary_colnames']\n",
    "    index = summary['summary_rownames']\n",
    "    data = summary['summary']\n",
    "    return pandas.DataFrame(data, index, columns)"
   ]
  },
  {
   "cell_type": "markdown",
   "metadata": {},
   "source": [
    "### print_stan"
   ]
  },
  {
   "cell_type": "code",
   "execution_count": 55,
   "metadata": {
    "collapsed": true
   },
   "outputs": [],
   "source": [
    "def print_stan(stanfile_pass):\n",
    "    f = open(stanfile_pass,'r')\n",
    "    for line in f:\n",
    "        print(line,end='')\n",
    "    f.close()"
   ]
  },
  {
   "cell_type": "markdown",
   "metadata": {},
   "source": [
    "# エクササイズ18.1"
   ]
  },
  {
   "cell_type": "markdown",
   "metadata": {
    "collapsed": true
   },
   "source": [
    "## 図 18.8"
   ]
  },
  {
   "cell_type": "markdown",
   "metadata": {},
   "source": [
    "![](2017-11-08 21.29.51.png)  \n",
    "式18.4 $\\mu = \\beta_0 + \\beta_1x_1 + (\\beta_2 + \\beta_{1\\times 2}x_1)x_2$   \n",
    "つまり、$x_2$の傾きは、$\\beta_2 + \\beta_{1\\times 2}x_1$  \n",
    "今回の問題の場合は、$2 + 0.2x_1$"
   ]
  },
  {
   "cell_type": "markdown",
   "metadata": {},
   "source": [
    "\n",
    "## $x_1 = 0$ のとき"
   ]
  },
  {
   "cell_type": "markdown",
   "metadata": {},
   "source": [
    "傾き：2"
   ]
  },
  {
   "cell_type": "markdown",
   "metadata": {},
   "source": [
    "## $x_1 = 10$ のとき"
   ]
  },
  {
   "cell_type": "markdown",
   "metadata": {},
   "source": [
    "傾き：4"
   ]
  },
  {
   "cell_type": "markdown",
   "metadata": {},
   "source": [
    "## 図からの計算"
   ]
  },
  {
   "cell_type": "markdown",
   "metadata": {},
   "source": [
    "- $x_1 = 0$の時、傾き2\n",
    "    - $y = 10(x_2 = 0)$\n",
    "    - $y = 30(x_2 = 10)$"
   ]
  },
  {
   "cell_type": "markdown",
   "metadata": {},
   "source": [
    "- $x_1 = 10$の時、傾き4\n",
    "    - $y = 0(x_2 = 0)$\n",
    "    - $y = 40(x_2 = 10)$"
   ]
  },
  {
   "cell_type": "markdown",
   "metadata": {},
   "source": [
    "# エクササイズ18.2"
   ]
  },
  {
   "cell_type": "markdown",
   "metadata": {},
   "source": [
    "## (A)"
   ]
  },
  {
   "cell_type": "code",
   "execution_count": 13,
   "metadata": {},
   "outputs": [],
   "source": [
    "Mydata = pd.read_csv('MultLinRegrPlotUnif.csv')"
   ]
  },
  {
   "cell_type": "code",
   "execution_count": 14,
   "metadata": {},
   "outputs": [
    {
     "data": {
      "text/plain": [
       "Index(['x1', 'x2', 'y'], dtype='object')"
      ]
     },
     "execution_count": 14,
     "metadata": {},
     "output_type": "execute_result"
    }
   ],
   "source": [
    "Mydata.columns"
   ]
  },
  {
   "cell_type": "code",
   "execution_count": 15,
   "metadata": {},
   "outputs": [
    {
     "data": {
      "text/html": [
       "<div>\n",
       "<table border=\"1\" class=\"dataframe\">\n",
       "  <thead>\n",
       "    <tr style=\"text-align: right;\">\n",
       "      <th></th>\n",
       "      <th>x1</th>\n",
       "      <th>x2</th>\n",
       "      <th>y</th>\n",
       "    </tr>\n",
       "  </thead>\n",
       "  <tbody>\n",
       "    <tr>\n",
       "      <th>0</th>\n",
       "      <td>6.248172</td>\n",
       "      <td>6.413018</td>\n",
       "      <td>27.728072</td>\n",
       "    </tr>\n",
       "    <tr>\n",
       "      <th>1</th>\n",
       "      <td>0.547031</td>\n",
       "      <td>6.056001</td>\n",
       "      <td>22.440026</td>\n",
       "    </tr>\n",
       "  </tbody>\n",
       "</table>\n",
       "</div>"
      ],
      "text/plain": [
       "         x1        x2          y\n",
       "0  6.248172  6.413018  27.728072\n",
       "1  0.547031  6.056001  22.440026"
      ]
     },
     "execution_count": 15,
     "metadata": {},
     "output_type": "execute_result"
    }
   ],
   "source": [
    "Mydata.head(2)"
   ]
  },
  {
   "cell_type": "code",
   "execution_count": 16,
   "metadata": {},
   "outputs": [
    {
     "data": {
      "text/plain": [
       "(400, 3)"
      ]
     },
     "execution_count": 16,
     "metadata": {},
     "output_type": "execute_result"
    }
   ],
   "source": [
    "Mydata.shape"
   ]
  },
  {
   "cell_type": "code",
   "execution_count": 17,
   "metadata": {
    "collapsed": true
   },
   "outputs": [],
   "source": [
    "N = 400\n",
    "M = 2\n",
    "# sig = 10\n",
    "# intercept = 40\n",
    "# X1 = np.random.normal(0, 100, N)\n",
    "# X2 = np.random.normal(0, 100, N)\n",
    "# Y = intercept + 0.8 * X1 + 0.25 * X2 + np.random.normal(0, sig, N)\n"
   ]
  },
  {
   "cell_type": "code",
   "execution_count": 38,
   "metadata": {},
   "outputs": [],
   "source": [
    "X = np.concatenate([np.ones(N),Mydata['x1'],Mydata['x2']]).reshape(3,N)\n",
    "X = X.T"
   ]
  },
  {
   "cell_type": "code",
   "execution_count": 41,
   "metadata": {},
   "outputs": [],
   "source": [
    "standata = {'N':N, 'M':3, 'X':X, 'Y':Mydata['y']}"
   ]
  },
  {
   "cell_type": "code",
   "execution_count": 46,
   "metadata": {
    "collapsed": true
   },
   "outputs": [],
   "source": [
    "model=\"\"\"\n",
    "data {\n",
    "  int<lower =0> N;\n",
    "  int<lower =0> M;\n",
    "  vector[N] Y;\n",
    "  matrix[N,M] X;\n",
    "}\n",
    "\n",
    "parameters {\n",
    "  vector[M] beta;\n",
    "  real<lower=0> sig;\n",
    "}\n",
    "\n",
    "model {\n",
    "  Y ~ normal(X*beta,sig);\n",
    "  beta ~ normal(0,100);\n",
    "  sig ~ student_t(4,0,5);\n",
    "}\n",
    "\n",
    "\"\"\""
   ]
  },
  {
   "cell_type": "code",
   "execution_count": 47,
   "metadata": {
    "collapsed": true
   },
   "outputs": [],
   "source": [
    "sm = pystan.StanModel(model_code=model)"
   ]
  },
  {
   "cell_type": "code",
   "execution_count": 48,
   "metadata": {},
   "outputs": [],
   "source": [
    "fit = sm.sampling(standata)"
   ]
  },
  {
   "cell_type": "code",
   "execution_count": 49,
   "metadata": {},
   "outputs": [
    {
     "data": {
      "image/png": "[encoded data removed]",
      "text/plain": [
       "<matplotlib.figure.Figure at 0x115334cc0>"
      ]
     },
     "execution_count": 49,
     "metadata": {},
     "output_type": "execute_result"
    },
    {
     "data": {
      "image/png": "[encoded data removed]",
      "text/plain": [
       "<matplotlib.figure.Figure at 0x115334cc0>"
      ]
     },
     "metadata": {},
     "output_type": "display_data"
    }
   ],
   "source": [
    "fit.plot()"
   ]
  },
  {
   "cell_type": "code",
   "execution_count": 50,
   "metadata": {
    "collapsed": true
   },
   "outputs": [],
   "source": [
    "with open('18_2.pickle', 'wb') as f:\n",
    "    pickle.dump(sm, f)\n",
    "    pickle.dump(fit,f)"
   ]
  },
  {
   "cell_type": "code",
   "execution_count": null,
   "metadata": {
    "collapsed": true
   },
   "outputs": [],
   "source": [
    "with open('18_2.pickle', 'rb') as f: # 読み込む時\n",
    "    sm = pickle.load(f)\n",
    "    fit = pickle.load(f)"
   ]
  },
  {
   "cell_type": "code",
   "execution_count": 56,
   "metadata": {},
   "outputs": [
    {
     "data": {
      "text/html": [
       "<div>\n",
       "<table border=\"1\" class=\"dataframe\">\n",
       "  <thead>\n",
       "    <tr style=\"text-align: right;\">\n",
       "      <th></th>\n",
       "      <th>mean</th>\n",
       "      <th>se_mean</th>\n",
       "      <th>sd</th>\n",
       "      <th>2.5%</th>\n",
       "      <th>25%</th>\n",
       "      <th>50%</th>\n",
       "      <th>75%</th>\n",
       "      <th>97.5%</th>\n",
       "      <th>n_eff</th>\n",
       "      <th>Rhat</th>\n",
       "    </tr>\n",
       "  </thead>\n",
       "  <tbody>\n",
       "    <tr>\n",
       "      <th>beta[0]</th>\n",
       "      <td>9.950705</td>\n",
       "      <td>0.005552</td>\n",
       "      <td>0.260593</td>\n",
       "      <td>9.443962</td>\n",
       "      <td>9.782230</td>\n",
       "      <td>9.953573</td>\n",
       "      <td>10.115552</td>\n",
       "      <td>10.476434</td>\n",
       "      <td>2203.0</td>\n",
       "      <td>1.001037</td>\n",
       "    </tr>\n",
       "    <tr>\n",
       "      <th>beta[1]</th>\n",
       "      <td>0.996125</td>\n",
       "      <td>0.000647</td>\n",
       "      <td>0.033177</td>\n",
       "      <td>0.931516</td>\n",
       "      <td>0.974072</td>\n",
       "      <td>0.996159</td>\n",
       "      <td>1.018838</td>\n",
       "      <td>1.061134</td>\n",
       "      <td>2632.0</td>\n",
       "      <td>1.001470</td>\n",
       "    </tr>\n",
       "    <tr>\n",
       "      <th>beta[2]</th>\n",
       "      <td>1.995000</td>\n",
       "      <td>0.000680</td>\n",
       "      <td>0.034408</td>\n",
       "      <td>1.927427</td>\n",
       "      <td>1.971513</td>\n",
       "      <td>1.995102</td>\n",
       "      <td>2.018114</td>\n",
       "      <td>2.063010</td>\n",
       "      <td>2563.0</td>\n",
       "      <td>0.999755</td>\n",
       "    </tr>\n",
       "    <tr>\n",
       "      <th>sig</th>\n",
       "      <td>2.026138</td>\n",
       "      <td>0.001268</td>\n",
       "      <td>0.069310</td>\n",
       "      <td>1.894899</td>\n",
       "      <td>1.978213</td>\n",
       "      <td>2.023927</td>\n",
       "      <td>2.072360</td>\n",
       "      <td>2.166341</td>\n",
       "      <td>2987.0</td>\n",
       "      <td>1.000031</td>\n",
       "    </tr>\n",
       "    <tr>\n",
       "      <th>lp__</th>\n",
       "      <td>-481.121900</td>\n",
       "      <td>0.035069</td>\n",
       "      <td>1.405399</td>\n",
       "      <td>-484.766002</td>\n",
       "      <td>-481.783746</td>\n",
       "      <td>-480.798544</td>\n",
       "      <td>-480.101960</td>\n",
       "      <td>-479.406261</td>\n",
       "      <td>1606.0</td>\n",
       "      <td>0.999935</td>\n",
       "    </tr>\n",
       "  </tbody>\n",
       "</table>\n",
       "</div>"
      ],
      "text/plain": [
       "               mean   se_mean        sd        2.5%         25%         50%  \\\n",
       "beta[0]    9.950705  0.005552  0.260593    9.443962    9.782230    9.953573   \n",
       "beta[1]    0.996125  0.000647  0.033177    0.931516    0.974072    0.996159   \n",
       "beta[2]    1.995000  0.000680  0.034408    1.927427    1.971513    1.995102   \n",
       "sig        2.026138  0.001268  0.069310    1.894899    1.978213    2.023927   \n",
       "lp__    -481.121900  0.035069  1.405399 -484.766002 -481.783746 -480.798544   \n",
       "\n",
       "                75%       97.5%   n_eff      Rhat  \n",
       "beta[0]   10.115552   10.476434  2203.0  1.001037  \n",
       "beta[1]    1.018838    1.061134  2632.0  1.001470  \n",
       "beta[2]    2.018114    2.063010  2563.0  0.999755  \n",
       "sig        2.072360    2.166341  2987.0  1.000031  \n",
       "lp__    -480.101960 -479.406261  1606.0  0.999935  "
      ]
     },
     "execution_count": 56,
     "metadata": {},
     "output_type": "execute_result"
    }
   ],
   "source": [
    "stanfit_to_dataframe(fit)"
   ]
  },
  {
   "cell_type": "code",
   "execution_count": 60,
   "metadata": {},
   "outputs": [],
   "source": [
    "data = fit.extract()"
   ]
  },
  {
   "cell_type": "code",
   "execution_count": 84,
   "metadata": {},
   "outputs": [
    {
     "data": {
      "text/plain": [
       "odict_keys(['beta', 'sig', 'lp__'])"
      ]
     },
     "execution_count": 84,
     "metadata": {},
     "output_type": "execute_result"
    }
   ],
   "source": [
    "data.keys()"
   ]
  },
  {
   "cell_type": "code",
   "execution_count": 86,
   "metadata": {},
   "outputs": [
    {
     "data": {
      "text/plain": [
       "(4000, 3)"
      ]
     },
     "execution_count": 86,
     "metadata": {},
     "output_type": "execute_result"
    }
   ],
   "source": [
    "data['beta'].shape"
   ]
  },
  {
   "cell_type": "code",
   "execution_count": 97,
   "metadata": {},
   "outputs": [
    {
     "data": {
      "text/plain": [
       "1.9949998276929968"
      ]
     },
     "execution_count": 97,
     "metadata": {},
     "output_type": "execute_result"
    }
   ],
   "source": [
    "np.mean(data['beta'][:,2])"
   ]
  },
  {
   "cell_type": "code",
   "execution_count": 116,
   "metadata": {},
   "outputs": [],
   "source": [
    "fitdata = pd.DataFrame({'beta0' : data['beta'][:,0] , 'beta1' : data['beta'][:,1] , 'beta2' : data['beta'][:,2] , 'sigma' :data['sig']})"
   ]
  },
  {
   "cell_type": "code",
   "execution_count": 129,
   "metadata": {
    "scrolled": true
   },
   "outputs": [
    {
     "data": {
      "image/png": "[encoded data removed]",
      "text/plain": [
       "<matplotlib.figure.Figure at 0x119d5b208>"
      ]
     },
     "metadata": {},
     "output_type": "display_data"
    }
   ],
   "source": [
    "plt.hist(fitdata['beta0'],bins=20)\n",
    "plt.title('beta_0');"
   ]
  },
  {
   "cell_type": "code",
   "execution_count": 132,
   "metadata": {},
   "outputs": [
    {
     "data": {
      "image/png": "[encoded data removed]",
      "text/plain": [
       "<matplotlib.figure.Figure at 0x1196e4be0>"
      ]
     },
     "metadata": {},
     "output_type": "display_data"
    }
   ],
   "source": [
    "plt.hist(fitdata['beta1'],bins=20)\n",
    "plt.title('beta_1');"
   ]
  },
  {
   "cell_type": "code",
   "execution_count": 131,
   "metadata": {},
   "outputs": [
    {
     "data": {
      "image/png": "[encoded data removed]",
      "text/plain": [
       "<matplotlib.figure.Figure at 0x119179710>"
      ]
     },
     "metadata": {},
     "output_type": "display_data"
    }
   ],
   "source": [
    "plt.hist(fitdata['beta2'],bins=20)\n",
    "plt.title('beta_2');"
   ]
  },
  {
   "cell_type": "markdown",
   "metadata": {},
   "source": [
    "## (B)1予測変数"
   ]
  },
  {
   "cell_type": "code",
   "execution_count": 134,
   "metadata": {},
   "outputs": [
    {
     "data": {
      "text/html": [
       "<div>\n",
       "<table border=\"1\" class=\"dataframe\">\n",
       "  <thead>\n",
       "    <tr style=\"text-align: right;\">\n",
       "      <th></th>\n",
       "      <th>x1</th>\n",
       "      <th>x2</th>\n",
       "      <th>y</th>\n",
       "    </tr>\n",
       "  </thead>\n",
       "  <tbody>\n",
       "    <tr>\n",
       "      <th>0</th>\n",
       "      <td>6.248172</td>\n",
       "      <td>6.413018</td>\n",
       "      <td>27.728072</td>\n",
       "    </tr>\n",
       "    <tr>\n",
       "      <th>1</th>\n",
       "      <td>0.547031</td>\n",
       "      <td>6.056001</td>\n",
       "      <td>22.440026</td>\n",
       "    </tr>\n",
       "  </tbody>\n",
       "</table>\n",
       "</div>"
      ],
      "text/plain": [
       "         x1        x2          y\n",
       "0  6.248172  6.413018  27.728072\n",
       "1  0.547031  6.056001  22.440026"
      ]
     },
     "execution_count": 134,
     "metadata": {},
     "output_type": "execute_result"
    }
   ],
   "source": [
    "Mydata.head(2)"
   ]
  },
  {
   "cell_type": "code",
   "execution_count": 136,
   "metadata": {},
   "outputs": [
    {
     "data": {
      "text/plain": [
       "dict_keys(['N', 'M', 'X', 'Y'])"
      ]
     },
     "execution_count": 136,
     "metadata": {},
     "output_type": "execute_result"
    }
   ],
   "source": [
    "standata.keys()"
   ]
  },
  {
   "cell_type": "code",
   "execution_count": 139,
   "metadata": {},
   "outputs": [],
   "source": [
    "X = np.concatenate([np.ones(N),Mydata['x1']]).reshape(2,N)\n",
    "X = X.T"
   ]
  },
  {
   "cell_type": "code",
   "execution_count": 141,
   "metadata": {
    "collapsed": true
   },
   "outputs": [],
   "source": [
    "standata = {'N':N, 'M':2, 'X':X, 'Y':Mydata['y']}"
   ]
  },
  {
   "cell_type": "code",
   "execution_count": 142,
   "metadata": {
    "collapsed": true
   },
   "outputs": [],
   "source": [
    "fit_b = sm.sampling(standata)"
   ]
  },
  {
   "cell_type": "code",
   "execution_count": 143,
   "metadata": {},
   "outputs": [
    {
     "data": {
      "image/png": "[encoded data removed]",
      "text/plain": [
       "<matplotlib.figure.Figure at 0x116265d68>"
      ]
     },
     "execution_count": 143,
     "metadata": {},
     "output_type": "execute_result"
    },
    {
     "data": {
      "image/png": "[encoded data removed]",
      "text/plain": [
       "<matplotlib.figure.Figure at 0x116265d68>"
      ]
     },
     "metadata": {},
     "output_type": "display_data"
    }
   ],
   "source": [
    "fit_b.plot()"
   ]
  },
  {
   "cell_type": "code",
   "execution_count": 144,
   "metadata": {},
   "outputs": [
    {
     "data": {
      "text/html": [
       "<div>\n",
       "<table border=\"1\" class=\"dataframe\">\n",
       "  <thead>\n",
       "    <tr style=\"text-align: right;\">\n",
       "      <th></th>\n",
       "      <th>mean</th>\n",
       "      <th>se_mean</th>\n",
       "      <th>sd</th>\n",
       "      <th>2.5%</th>\n",
       "      <th>25%</th>\n",
       "      <th>50%</th>\n",
       "      <th>75%</th>\n",
       "      <th>97.5%</th>\n",
       "      <th>n_eff</th>\n",
       "      <th>Rhat</th>\n",
       "    </tr>\n",
       "  </thead>\n",
       "  <tbody>\n",
       "    <tr>\n",
       "      <th>beta[0]</th>\n",
       "      <td>19.947439</td>\n",
       "      <td>0.014831</td>\n",
       "      <td>0.599157</td>\n",
       "      <td>18.748332</td>\n",
       "      <td>19.541609</td>\n",
       "      <td>19.953767</td>\n",
       "      <td>20.348359</td>\n",
       "      <td>21.120773</td>\n",
       "      <td>1632.0</td>\n",
       "      <td>1.001340</td>\n",
       "    </tr>\n",
       "    <tr>\n",
       "      <th>beta[1]</th>\n",
       "      <td>1.009096</td>\n",
       "      <td>0.002600</td>\n",
       "      <td>0.101095</td>\n",
       "      <td>0.813180</td>\n",
       "      <td>0.940862</td>\n",
       "      <td>1.009681</td>\n",
       "      <td>1.078059</td>\n",
       "      <td>1.203118</td>\n",
       "      <td>1512.0</td>\n",
       "      <td>1.001405</td>\n",
       "    </tr>\n",
       "    <tr>\n",
       "      <th>sig</th>\n",
       "      <td>6.114118</td>\n",
       "      <td>0.004303</td>\n",
       "      <td>0.218752</td>\n",
       "      <td>5.709558</td>\n",
       "      <td>5.961903</td>\n",
       "      <td>6.108372</td>\n",
       "      <td>6.254944</td>\n",
       "      <td>6.568900</td>\n",
       "      <td>2584.0</td>\n",
       "      <td>1.000802</td>\n",
       "    </tr>\n",
       "    <tr>\n",
       "      <th>lp__</th>\n",
       "      <td>-923.625425</td>\n",
       "      <td>0.032148</td>\n",
       "      <td>1.182516</td>\n",
       "      <td>-926.641265</td>\n",
       "      <td>-924.175810</td>\n",
       "      <td>-923.336313</td>\n",
       "      <td>-922.753280</td>\n",
       "      <td>-922.259261</td>\n",
       "      <td>1353.0</td>\n",
       "      <td>1.000708</td>\n",
       "    </tr>\n",
       "  </tbody>\n",
       "</table>\n",
       "</div>"
      ],
      "text/plain": [
       "               mean   se_mean        sd        2.5%         25%         50%  \\\n",
       "beta[0]   19.947439  0.014831  0.599157   18.748332   19.541609   19.953767   \n",
       "beta[1]    1.009096  0.002600  0.101095    0.813180    0.940862    1.009681   \n",
       "sig        6.114118  0.004303  0.218752    5.709558    5.961903    6.108372   \n",
       "lp__    -923.625425  0.032148  1.182516 -926.641265 -924.175810 -923.336313   \n",
       "\n",
       "                75%       97.5%   n_eff      Rhat  \n",
       "beta[0]   20.348359   21.120773  1632.0  1.001340  \n",
       "beta[1]    1.078059    1.203118  1512.0  1.001405  \n",
       "sig        6.254944    6.568900  2584.0  1.000802  \n",
       "lp__    -922.753280 -922.259261  1353.0  1.000708  "
      ]
     },
     "execution_count": 144,
     "metadata": {},
     "output_type": "execute_result"
    }
   ],
   "source": [
    "stanfit_to_dataframe(fit_b)"
   ]
  },
  {
   "cell_type": "code",
   "execution_count": 145,
   "metadata": {
    "collapsed": true
   },
   "outputs": [],
   "source": [
    "with open('18_2_b.pickle', 'wb') as f:\n",
    "    pickle.dump(fit_b,f)"
   ]
  },
  {
   "cell_type": "code",
   "execution_count": 146,
   "metadata": {
    "collapsed": true
   },
   "outputs": [],
   "source": [
    "data_b = fit_b.extract()"
   ]
  },
  {
   "cell_type": "code",
   "execution_count": 147,
   "metadata": {
    "scrolled": true
   },
   "outputs": [
    {
     "data": {
      "text/plain": [
       "OrderedDict([('beta', array([[ 20.3400961 ,   1.00361156],\n",
       "                     [ 20.71071409,   0.85965329],\n",
       "                     [ 19.82197042,   1.05869444],\n",
       "                     ..., \n",
       "                     [ 20.09424074,   0.95016077],\n",
       "                     [ 19.91387529,   0.98429777],\n",
       "                     [ 21.03643074,   0.84059339]])),\n",
       "             ('sig',\n",
       "              array([ 6.05103907,  6.00380006,  6.18298508, ...,  6.59848366,\n",
       "                      6.2212216 ,  5.79980692])),\n",
       "             ('lp__',\n",
       "              array([-922.9050766 , -923.36088835, -922.43029504, ..., -924.81048105,\n",
       "                     -922.48055828, -924.99610559]))])"
      ]
     },
     "execution_count": 147,
     "metadata": {},
     "output_type": "execute_result"
    }
   ],
   "source": [
    "data_b"
   ]
  },
  {
   "cell_type": "code",
   "execution_count": 148,
   "metadata": {
    "collapsed": true
   },
   "outputs": [],
   "source": [
    "fitdata_b = pd.DataFrame({'beta0' : data_b['beta'][:,0] , 'beta1' : data_b['beta'][:,1] , 'sigma' :data['sig']})"
   ]
  },
  {
   "cell_type": "code",
   "execution_count": 150,
   "metadata": {},
   "outputs": [
    {
     "data": {
      "image/png": "[encoded data removed]",
      "text/plain": [
       "<matplotlib.figure.Figure at 0x11a2a42b0>"
      ]
     },
     "metadata": {},
     "output_type": "display_data"
    }
   ],
   "source": [
    "plt.hist(fitdata_b['beta0'],bins=20)\n",
    "plt.title('beta_0');"
   ]
  },
  {
   "cell_type": "code",
   "execution_count": 151,
   "metadata": {},
   "outputs": [
    {
     "data": {
      "image/png": "[encoded data removed]",
      "text/plain": [
       "<matplotlib.figure.Figure at 0x11a49fac8>"
      ]
     },
     "metadata": {},
     "output_type": "display_data"
    }
   ],
   "source": [
    "plt.hist(fitdata_b['beta1'],bins=20)\n",
    "plt.title('beta_1');"
   ]
  },
  {
   "cell_type": "markdown",
   "metadata": {},
   "source": [
    "## (C)データの101行目から150目"
   ]
  },
  {
   "cell_type": "code",
   "execution_count": 172,
   "metadata": {},
   "outputs": [
    {
     "data": {
      "text/html": [
       "<div>\n",
       "<table border=\"1\" class=\"dataframe\">\n",
       "  <thead>\n",
       "    <tr style=\"text-align: right;\">\n",
       "      <th></th>\n",
       "      <th>x1</th>\n",
       "      <th>x2</th>\n",
       "      <th>y</th>\n",
       "    </tr>\n",
       "  </thead>\n",
       "  <tbody>\n",
       "    <tr>\n",
       "      <th>100</th>\n",
       "      <td>6.437847</td>\n",
       "      <td>8.914670</td>\n",
       "      <td>34.921785</td>\n",
       "    </tr>\n",
       "    <tr>\n",
       "      <th>101</th>\n",
       "      <td>0.931271</td>\n",
       "      <td>6.355154</td>\n",
       "      <td>24.551838</td>\n",
       "    </tr>\n",
       "    <tr>\n",
       "      <th>102</th>\n",
       "      <td>0.780555</td>\n",
       "      <td>4.954432</td>\n",
       "      <td>22.297365</td>\n",
       "    </tr>\n",
       "    <tr>\n",
       "      <th>103</th>\n",
       "      <td>6.996715</td>\n",
       "      <td>9.439274</td>\n",
       "      <td>35.300622</td>\n",
       "    </tr>\n",
       "    <tr>\n",
       "      <th>104</th>\n",
       "      <td>8.554148</td>\n",
       "      <td>0.195151</td>\n",
       "      <td>18.008446</td>\n",
       "    </tr>\n",
       "    <tr>\n",
       "      <th>105</th>\n",
       "      <td>5.288584</td>\n",
       "      <td>1.961516</td>\n",
       "      <td>18.444299</td>\n",
       "    </tr>\n",
       "    <tr>\n",
       "      <th>106</th>\n",
       "      <td>1.033909</td>\n",
       "      <td>0.511602</td>\n",
       "      <td>15.273377</td>\n",
       "    </tr>\n",
       "    <tr>\n",
       "      <th>107</th>\n",
       "      <td>0.868890</td>\n",
       "      <td>7.490675</td>\n",
       "      <td>24.043826</td>\n",
       "    </tr>\n",
       "    <tr>\n",
       "      <th>108</th>\n",
       "      <td>4.019603</td>\n",
       "      <td>0.446168</td>\n",
       "      <td>14.721405</td>\n",
       "    </tr>\n",
       "    <tr>\n",
       "      <th>109</th>\n",
       "      <td>4.637931</td>\n",
       "      <td>3.928920</td>\n",
       "      <td>22.327247</td>\n",
       "    </tr>\n",
       "    <tr>\n",
       "      <th>110</th>\n",
       "      <td>7.740268</td>\n",
       "      <td>7.706943</td>\n",
       "      <td>33.924608</td>\n",
       "    </tr>\n",
       "    <tr>\n",
       "      <th>111</th>\n",
       "      <td>1.504305</td>\n",
       "      <td>6.396458</td>\n",
       "      <td>26.294245</td>\n",
       "    </tr>\n",
       "    <tr>\n",
       "      <th>112</th>\n",
       "      <td>4.703106</td>\n",
       "      <td>8.127134</td>\n",
       "      <td>30.383724</td>\n",
       "    </tr>\n",
       "    <tr>\n",
       "      <th>113</th>\n",
       "      <td>6.723308</td>\n",
       "      <td>1.437909</td>\n",
       "      <td>19.637261</td>\n",
       "    </tr>\n",
       "    <tr>\n",
       "      <th>114</th>\n",
       "      <td>8.914280</td>\n",
       "      <td>0.800792</td>\n",
       "      <td>16.175878</td>\n",
       "    </tr>\n",
       "    <tr>\n",
       "      <th>115</th>\n",
       "      <td>4.194893</td>\n",
       "      <td>1.878837</td>\n",
       "      <td>15.765745</td>\n",
       "    </tr>\n",
       "    <tr>\n",
       "      <th>116</th>\n",
       "      <td>0.488768</td>\n",
       "      <td>3.223253</td>\n",
       "      <td>16.326086</td>\n",
       "    </tr>\n",
       "    <tr>\n",
       "      <th>117</th>\n",
       "      <td>9.896555</td>\n",
       "      <td>0.570297</td>\n",
       "      <td>19.978964</td>\n",
       "    </tr>\n",
       "    <tr>\n",
       "      <th>118</th>\n",
       "      <td>1.150637</td>\n",
       "      <td>7.952734</td>\n",
       "      <td>26.184412</td>\n",
       "    </tr>\n",
       "    <tr>\n",
       "      <th>119</th>\n",
       "      <td>8.832557</td>\n",
       "      <td>3.595443</td>\n",
       "      <td>23.981182</td>\n",
       "    </tr>\n",
       "    <tr>\n",
       "      <th>120</th>\n",
       "      <td>7.451449</td>\n",
       "      <td>1.885746</td>\n",
       "      <td>21.907647</td>\n",
       "    </tr>\n",
       "    <tr>\n",
       "      <th>121</th>\n",
       "      <td>7.774524</td>\n",
       "      <td>7.253436</td>\n",
       "      <td>35.041569</td>\n",
       "    </tr>\n",
       "    <tr>\n",
       "      <th>122</th>\n",
       "      <td>9.132520</td>\n",
       "      <td>6.956433</td>\n",
       "      <td>33.383974</td>\n",
       "    </tr>\n",
       "    <tr>\n",
       "      <th>123</th>\n",
       "      <td>7.613859</td>\n",
       "      <td>1.067469</td>\n",
       "      <td>19.230946</td>\n",
       "    </tr>\n",
       "    <tr>\n",
       "      <th>124</th>\n",
       "      <td>5.717588</td>\n",
       "      <td>3.438919</td>\n",
       "      <td>17.175592</td>\n",
       "    </tr>\n",
       "    <tr>\n",
       "      <th>125</th>\n",
       "      <td>0.138768</td>\n",
       "      <td>6.537938</td>\n",
       "      <td>20.996850</td>\n",
       "    </tr>\n",
       "    <tr>\n",
       "      <th>126</th>\n",
       "      <td>2.250545</td>\n",
       "      <td>9.145052</td>\n",
       "      <td>30.967562</td>\n",
       "    </tr>\n",
       "    <tr>\n",
       "      <th>127</th>\n",
       "      <td>1.811314</td>\n",
       "      <td>1.156827</td>\n",
       "      <td>15.305213</td>\n",
       "    </tr>\n",
       "    <tr>\n",
       "      <th>128</th>\n",
       "      <td>1.348153</td>\n",
       "      <td>5.726366</td>\n",
       "      <td>21.439203</td>\n",
       "    </tr>\n",
       "    <tr>\n",
       "      <th>129</th>\n",
       "      <td>0.281208</td>\n",
       "      <td>1.683619</td>\n",
       "      <td>15.078938</td>\n",
       "    </tr>\n",
       "    <tr>\n",
       "      <th>130</th>\n",
       "      <td>1.750615</td>\n",
       "      <td>7.196538</td>\n",
       "      <td>28.818980</td>\n",
       "    </tr>\n",
       "    <tr>\n",
       "      <th>131</th>\n",
       "      <td>3.481610</td>\n",
       "      <td>5.799220</td>\n",
       "      <td>22.953859</td>\n",
       "    </tr>\n",
       "    <tr>\n",
       "      <th>132</th>\n",
       "      <td>2.458337</td>\n",
       "      <td>1.732228</td>\n",
       "      <td>20.945724</td>\n",
       "    </tr>\n",
       "    <tr>\n",
       "      <th>133</th>\n",
       "      <td>1.048136</td>\n",
       "      <td>4.521701</td>\n",
       "      <td>18.637241</td>\n",
       "    </tr>\n",
       "    <tr>\n",
       "      <th>134</th>\n",
       "      <td>4.909466</td>\n",
       "      <td>8.828798</td>\n",
       "      <td>34.674164</td>\n",
       "    </tr>\n",
       "    <tr>\n",
       "      <th>135</th>\n",
       "      <td>3.052387</td>\n",
       "      <td>0.003215</td>\n",
       "      <td>11.475741</td>\n",
       "    </tr>\n",
       "    <tr>\n",
       "      <th>136</th>\n",
       "      <td>3.760978</td>\n",
       "      <td>8.181916</td>\n",
       "      <td>27.784009</td>\n",
       "    </tr>\n",
       "    <tr>\n",
       "      <th>137</th>\n",
       "      <td>0.712273</td>\n",
       "      <td>9.214210</td>\n",
       "      <td>32.619962</td>\n",
       "    </tr>\n",
       "    <tr>\n",
       "      <th>138</th>\n",
       "      <td>9.573787</td>\n",
       "      <td>0.839564</td>\n",
       "      <td>20.370811</td>\n",
       "    </tr>\n",
       "    <tr>\n",
       "      <th>139</th>\n",
       "      <td>7.961799</td>\n",
       "      <td>6.669864</td>\n",
       "      <td>31.074290</td>\n",
       "    </tr>\n",
       "    <tr>\n",
       "      <th>140</th>\n",
       "      <td>8.487548</td>\n",
       "      <td>8.739766</td>\n",
       "      <td>35.178476</td>\n",
       "    </tr>\n",
       "    <tr>\n",
       "      <th>141</th>\n",
       "      <td>5.233672</td>\n",
       "      <td>3.982872</td>\n",
       "      <td>20.248674</td>\n",
       "    </tr>\n",
       "    <tr>\n",
       "      <th>142</th>\n",
       "      <td>4.291901</td>\n",
       "      <td>1.079121</td>\n",
       "      <td>11.971733</td>\n",
       "    </tr>\n",
       "    <tr>\n",
       "      <th>143</th>\n",
       "      <td>8.977223</td>\n",
       "      <td>9.540711</td>\n",
       "      <td>37.042603</td>\n",
       "    </tr>\n",
       "    <tr>\n",
       "      <th>144</th>\n",
       "      <td>0.493562</td>\n",
       "      <td>3.337788</td>\n",
       "      <td>16.133991</td>\n",
       "    </tr>\n",
       "    <tr>\n",
       "      <th>145</th>\n",
       "      <td>5.358350</td>\n",
       "      <td>2.122453</td>\n",
       "      <td>20.642854</td>\n",
       "    </tr>\n",
       "    <tr>\n",
       "      <th>146</th>\n",
       "      <td>0.404339</td>\n",
       "      <td>6.628617</td>\n",
       "      <td>25.660422</td>\n",
       "    </tr>\n",
       "    <tr>\n",
       "      <th>147</th>\n",
       "      <td>3.207693</td>\n",
       "      <td>4.806677</td>\n",
       "      <td>23.715094</td>\n",
       "    </tr>\n",
       "    <tr>\n",
       "      <th>148</th>\n",
       "      <td>2.095270</td>\n",
       "      <td>5.288170</td>\n",
       "      <td>23.993422</td>\n",
       "    </tr>\n",
       "    <tr>\n",
       "      <th>149</th>\n",
       "      <td>6.544971</td>\n",
       "      <td>9.695492</td>\n",
       "      <td>36.666837</td>\n",
       "    </tr>\n",
       "  </tbody>\n",
       "</table>\n",
       "</div>"
      ],
      "text/plain": [
       "           x1        x2          y\n",
       "100  6.437847  8.914670  34.921785\n",
       "101  0.931271  6.355154  24.551838\n",
       "102  0.780555  4.954432  22.297365\n",
       "103  6.996715  9.439274  35.300622\n",
       "104  8.554148  0.195151  18.008446\n",
       "105  5.288584  1.961516  18.444299\n",
       "106  1.033909  0.511602  15.273377\n",
       "107  0.868890  7.490675  24.043826\n",
       "108  4.019603  0.446168  14.721405\n",
       "109  4.637931  3.928920  22.327247\n",
       "110  7.740268  7.706943  33.924608\n",
       "111  1.504305  6.396458  26.294245\n",
       "112  4.703106  8.127134  30.383724\n",
       "113  6.723308  1.437909  19.637261\n",
       "114  8.914280  0.800792  16.175878\n",
       "115  4.194893  1.878837  15.765745\n",
       "116  0.488768  3.223253  16.326086\n",
       "117  9.896555  0.570297  19.978964\n",
       "118  1.150637  7.952734  26.184412\n",
       "119  8.832557  3.595443  23.981182\n",
       "120  7.451449  1.885746  21.907647\n",
       "121  7.774524  7.253436  35.041569\n",
       "122  9.132520  6.956433  33.383974\n",
       "123  7.613859  1.067469  19.230946\n",
       "124  5.717588  3.438919  17.175592\n",
       "125  0.138768  6.537938  20.996850\n",
       "126  2.250545  9.145052  30.967562\n",
       "127  1.811314  1.156827  15.305213\n",
       "128  1.348153  5.726366  21.439203\n",
       "129  0.281208  1.683619  15.078938\n",
       "130  1.750615  7.196538  28.818980\n",
       "131  3.481610  5.799220  22.953859\n",
       "132  2.458337  1.732228  20.945724\n",
       "133  1.048136  4.521701  18.637241\n",
       "134  4.909466  8.828798  34.674164\n",
       "135  3.052387  0.003215  11.475741\n",
       "136  3.760978  8.181916  27.784009\n",
       "137  0.712273  9.214210  32.619962\n",
       "138  9.573787  0.839564  20.370811\n",
       "139  7.961799  6.669864  31.074290\n",
       "140  8.487548  8.739766  35.178476\n",
       "141  5.233672  3.982872  20.248674\n",
       "142  4.291901  1.079121  11.971733\n",
       "143  8.977223  9.540711  37.042603\n",
       "144  0.493562  3.337788  16.133991\n",
       "145  5.358350  2.122453  20.642854\n",
       "146  0.404339  6.628617  25.660422\n",
       "147  3.207693  4.806677  23.715094\n",
       "148  2.095270  5.288170  23.993422\n",
       "149  6.544971  9.695492  36.666837"
      ]
     },
     "execution_count": 172,
     "metadata": {},
     "output_type": "execute_result"
    }
   ],
   "source": [
    "Mydata.iloc[100:150,]"
   ]
  },
  {
   "cell_type": "code",
   "execution_count": 173,
   "metadata": {
    "collapsed": true
   },
   "outputs": [],
   "source": [
    "from mpl_toolkits.mplot3d import Axes3D"
   ]
  },
  {
   "cell_type": "code",
   "execution_count": 184,
   "metadata": {},
   "outputs": [
    {
     "data": {
      "text/plain": [
       "[<mpl_toolkits.mplot3d.art3d.Line3D at 0x11a6dc780>]"
      ]
     },
     "execution_count": 184,
     "metadata": {},
     "output_type": "execute_result"
    },
    {
     "data": {
      "image/png": "[encoded data removed]",
      "text/plain": [
       "<matplotlib.figure.Figure at 0x11a5bbd68>"
      ]
     },
     "metadata": {},
     "output_type": "display_data"
    }
   ],
   "source": [
    "fig = plt.figure()\n",
    "ax = Axes3D(fig)\n",
    "#ax.plot([1,2],[1,2],[1,2],\"o\")\n",
    "ax.plot(np.array(Mydata.iloc[100:150,]['x1']),np.array(Mydata.iloc[100:150,]['x2']), np.array(Mydata.iloc[100:150,]['y']), \"o\", color=\"#cccccc\")"
   ]
  },
  {
   "cell_type": "markdown",
   "metadata": {},
   "source": [
    "# エクササイズ18.3"
   ]
  },
  {
   "cell_type": "markdown",
   "metadata": {},
   "source": [
    "# エクササイズ18.4"
   ]
  }
 ],
 "metadata": {
  "anaconda-cloud": {},
  "kernelspec": {
   "display_name": "Python [conda root]",
   "language": "python",
   "name": "conda-root-py"
  },
  "language_info": {
   "codemirror_mode": {
    "name": "ipython",
    "version": 3
   },
   "file_extension": ".py",
   "mimetype": "text/x-python",
   "name": "python",
   "nbconvert_exporter": "python",
   "pygments_lexer": "ipython3",
   "version": "3.5.2"
  },
  "toc": {
   "colors": {
    "hover_highlight": "#DAA520",
    "running_highlight": "#FF0000",
    "selected_highlight": "#FFD700"
   },
   "moveMenuLeft": true,
   "nav_menu": {
    "height": "12px",
    "width": "252px"
   },
   "navigate_menu": true,
   "number_sections": true,
   "sideBar": true,
   "threshold": 4,
   "toc_cell": false,
   "toc_section_display": "block",
   "toc_window_display": true,
   "widenNotebook": false
  }
 },
 "nbformat": 4,
 "nbformat_minor": 1
}
